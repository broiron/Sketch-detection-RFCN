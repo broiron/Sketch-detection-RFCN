{
 "cells": [
  {
   "cell_type": "code",
   "execution_count": 2,
   "id": "695c9685",
   "metadata": {},
   "outputs": [],
   "source": [
    "import os\n",
    "import numpy as np\n",
    "import cv2\n",
    "from tqdm import tqdm\n",
    "\n",
    "from utils.img_processing import read_image\n",
    "from rfcn_model import RFCN_ResNet101\n",
    "from trainer import RFCN_Trainer\n",
    "from config import opt\n",
    "from utils.vis_tool import visdom_bbox\n",
    "from utils.bbox_tools import tonumpy"
   ]
  },
  {
   "cell_type": "code",
   "execution_count": 5,
   "id": "51ccec43",
   "metadata": {},
   "outputs": [],
   "source": [
    "def predict(load_path):\n",
    "    \"\"\"\n",
    "    \"\"\"\n",
    "    \"\"\"parse parameters\"\"\"\n",
    "    opt.load_path = load_path\n",
    "    # opt.parse(kwargs)\n",
    "\n",
    "    \"\"\"get images to be predicted\"\"\"\n",
    "    if not os.path.isdir(opt.predict_output_dir):\n",
    "        os.mkdir(opt.predict_output_dir)\n",
    "\n",
    "    img_files = os.listdir(opt.predict_input_dir)\n",
    "    img_files.sort()\n",
    "\n",
    "    img_paths = [os.path.join(opt.predict_input_dir, name) for name in img_files]\n",
    "\n",
    "    \"\"\"create model\"\"\"\n",
    "    rfcn_md = RFCN_ResNet101()\n",
    "    print('model construct completed')\n",
    "\n",
    "    rfcn_trainer = RFCN_Trainer(rfcn_md).cuda()\n",
    "    if opt.load_path:\n",
    "        rfcn_trainer.load(opt.load_path, load_viz_idx=opt.load_viz_x)\n",
    "        print('load pretrained model from %s' % opt.load_path)\n",
    "    for img_path in tqdm(img_paths):\n",
    "        raw_img = read_image(img_path, color=True)\n",
    "\n",
    "        # plot predict bboxes\n",
    "        b_bboxes, b_labels, b_scores = rfcn_trainer.r_fcn.predict([raw_img], visualize=True)\n",
    "        pred_img = visdom_bbox(raw_img,\n",
    "                               tonumpy(b_bboxes[0]),\n",
    "                               tonumpy(b_labels[0]).reshape(-1),\n",
    "                               tonumpy(b_scores[0]))\n",
    "\n",
    "        file_name, file_ext = os.path.splitext(os.path.basename(img_path))\n",
    "        result = np.hstack([b_labels[0][:, np.newaxis], b_scores[0][:, np.newaxis], b_bboxes[0]])\n",
    "\n",
    "        # output to file\n",
    "        file_out_path = os.path.join(opt.predict_output_dir, 'res_' + file_name+'.txt')\n",
    "        np.savetxt(file_out_path, result, fmt='%.2f', delimiter=',')\n",
    "\n",
    "        img_out_path = os.path.join(opt.predict_output_dir, file_name+'_res.jpg')\n",
    "        pred_img = np.flipud(pred_img).transpose((1, 2, 0)) * 255\n",
    "        cv2.imwrite(img_out_path, pred_img)\n",
    "\n",
    "    print('Done!')"
   ]
  },
  {
   "cell_type": "code",
   "execution_count": 6,
   "id": "1f92eb93",
   "metadata": {},
   "outputs": [
    {
     "name": "stdout",
     "output_type": "stream",
     "text": [
      "Loading the resnet101 parameters...\n"
     ]
    },
    {
     "name": "stderr",
     "output_type": "stream",
     "text": [
      "Setting up a new session...\n",
      "Traceback (most recent call last):\n",
      "  File \"/home/broiron/anaconda3/envs/rfcn/lib/python3.6/site-packages/urllib3/connection.py\", line 175, in _new_conn\n",
      "    (self._dns_host, self.port), self.timeout, **extra_kw\n",
      "  File \"/home/broiron/anaconda3/envs/rfcn/lib/python3.6/site-packages/urllib3/util/connection.py\", line 95, in create_connection\n",
      "    raise err\n",
      "  File \"/home/broiron/anaconda3/envs/rfcn/lib/python3.6/site-packages/urllib3/util/connection.py\", line 85, in create_connection\n",
      "    sock.connect(sa)\n",
      "ConnectionRefusedError: [Errno 111] Connection refused\n",
      "\n",
      "During handling of the above exception, another exception occurred:\n",
      "\n",
      "Traceback (most recent call last):\n",
      "  File \"/home/broiron/anaconda3/envs/rfcn/lib/python3.6/site-packages/urllib3/connectionpool.py\", line 710, in urlopen\n",
      "    chunked=chunked,\n",
      "  File \"/home/broiron/anaconda3/envs/rfcn/lib/python3.6/site-packages/urllib3/connectionpool.py\", line 398, in _make_request\n",
      "    conn.request(method, url, **httplib_request_kw)\n",
      "  File \"/home/broiron/anaconda3/envs/rfcn/lib/python3.6/site-packages/urllib3/connection.py\", line 239, in request\n",
      "    super(HTTPConnection, self).request(method, url, body=body, headers=headers)\n",
      "  File \"/home/broiron/anaconda3/envs/rfcn/lib/python3.6/http/client.py\", line 1287, in request\n",
      "    self._send_request(method, url, body, headers, encode_chunked)\n",
      "  File \"/home/broiron/anaconda3/envs/rfcn/lib/python3.6/http/client.py\", line 1333, in _send_request\n",
      "    self.endheaders(body, encode_chunked=encode_chunked)\n",
      "  File \"/home/broiron/anaconda3/envs/rfcn/lib/python3.6/http/client.py\", line 1282, in endheaders\n",
      "    self._send_output(message_body, encode_chunked=encode_chunked)\n",
      "  File \"/home/broiron/anaconda3/envs/rfcn/lib/python3.6/http/client.py\", line 1042, in _send_output\n",
      "    self.send(msg)\n",
      "  File \"/home/broiron/anaconda3/envs/rfcn/lib/python3.6/http/client.py\", line 980, in send\n",
      "    self.connect()\n",
      "  File \"/home/broiron/anaconda3/envs/rfcn/lib/python3.6/site-packages/urllib3/connection.py\", line 205, in connect\n",
      "    conn = self._new_conn()\n",
      "  File \"/home/broiron/anaconda3/envs/rfcn/lib/python3.6/site-packages/urllib3/connection.py\", line 187, in _new_conn\n",
      "    self, \"Failed to establish a new connection: %s\" % e\n",
      "urllib3.exceptions.NewConnectionError: <urllib3.connection.HTTPConnection object at 0x7faa2a4759b0>: Failed to establish a new connection: [Errno 111] Connection refused\n",
      "\n",
      "During handling of the above exception, another exception occurred:\n",
      "\n",
      "Traceback (most recent call last):\n",
      "  File \"/home/broiron/anaconda3/envs/rfcn/lib/python3.6/site-packages/requests/adapters.py\", line 450, in send\n",
      "    timeout=timeout\n",
      "  File \"/home/broiron/anaconda3/envs/rfcn/lib/python3.6/site-packages/urllib3/connectionpool.py\", line 788, in urlopen\n",
      "    method, url, error=e, _pool=self, _stacktrace=sys.exc_info()[2]\n",
      "  File \"/home/broiron/anaconda3/envs/rfcn/lib/python3.6/site-packages/urllib3/util/retry.py\", line 592, in increment\n",
      "    raise MaxRetryError(_pool, url, error or ResponseError(cause))\n",
      "urllib3.exceptions.MaxRetryError: HTTPConnectionPool(host='localhost', port=8097): Max retries exceeded with url: /env/R-FCN (Caused by NewConnectionError('<urllib3.connection.HTTPConnection object at 0x7faa2a4759b0>: Failed to establish a new connection: [Errno 111] Connection refused',))\n",
      "\n",
      "During handling of the above exception, another exception occurred:\n",
      "\n",
      "Traceback (most recent call last):\n",
      "  File \"/home/broiron/anaconda3/envs/rfcn/lib/python3.6/site-packages/visdom/__init__.py\", line 711, in _send\n",
      "    data=json.dumps(msg),\n",
      "  File \"/home/broiron/anaconda3/envs/rfcn/lib/python3.6/site-packages/visdom/__init__.py\", line 677, in _handle_post\n",
      "    r = self.session.post(url, data=data)\n",
      "  File \"/home/broiron/anaconda3/envs/rfcn/lib/python3.6/site-packages/requests/sessions.py\", line 577, in post\n",
      "    return self.request('POST', url, data=data, json=json, **kwargs)\n",
      "  File \"/home/broiron/anaconda3/envs/rfcn/lib/python3.6/site-packages/requests/sessions.py\", line 529, in request\n",
      "    resp = self.send(prep, **send_kwargs)\n",
      "  File \"/home/broiron/anaconda3/envs/rfcn/lib/python3.6/site-packages/requests/sessions.py\", line 645, in send\n",
      "    r = adapter.send(request, **kwargs)\n",
      "  File \"/home/broiron/anaconda3/envs/rfcn/lib/python3.6/site-packages/requests/adapters.py\", line 519, in send\n",
      "    raise ConnectionError(e, request=request)\n",
      "requests.exceptions.ConnectionError: HTTPConnectionPool(host='localhost', port=8097): Max retries exceeded with url: /env/R-FCN (Caused by NewConnectionError('<urllib3.connection.HTTPConnection object at 0x7faa2a4759b0>: Failed to establish a new connection: [Errno 111] Connection refused',))\n",
      "[Errno 111] Connection refused\n",
      "on_close() takes 1 positional argument but 3 were given\n"
     ]
    },
    {
     "name": "stdout",
     "output_type": "stream",
     "text": [
      "Loading complete\n",
      "model construct completed\n",
      "Exception in user code:\n",
      "------------------------------------------------------------\n",
      "load pretrained model from ./checkPoints/rfcn_03131808_0.8157708573059558.pth\n"
     ]
    },
    {
     "name": "stderr",
     "output_type": "stream",
     "text": [
      "100%|██████████| 671/671 [04:37<00:00,  2.42it/s]"
     ]
    },
    {
     "name": "stdout",
     "output_type": "stream",
     "text": [
      "Done!\n"
     ]
    },
    {
     "name": "stderr",
     "output_type": "stream",
     "text": [
      "\n"
     ]
    }
   ],
   "source": [
    "predict('./checkPoints/rfcn_03131808_0.8157708573059558.pth')"
   ]
  },
  {
   "cell_type": "code",
   "execution_count": null,
   "id": "63126281",
   "metadata": {},
   "outputs": [],
   "source": []
  }
 ],
 "metadata": {
  "kernelspec": {
   "display_name": "rfcn",
   "language": "python",
   "name": "rfcn"
  },
  "language_info": {
   "codemirror_mode": {
    "name": "ipython",
    "version": 3
   },
   "file_extension": ".py",
   "mimetype": "text/x-python",
   "name": "python",
   "nbconvert_exporter": "python",
   "pygments_lexer": "ipython3",
   "version": "3.6.13"
  }
 },
 "nbformat": 4,
 "nbformat_minor": 5
}
